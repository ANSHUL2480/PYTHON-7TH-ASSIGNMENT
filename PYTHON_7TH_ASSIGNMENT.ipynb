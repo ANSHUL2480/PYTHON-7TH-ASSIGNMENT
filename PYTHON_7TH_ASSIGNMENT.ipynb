{
  "nbformat": 4,
  "nbformat_minor": 0,
  "metadata": {
    "colab": {
      "provenance": []
    },
    "kernelspec": {
      "name": "python3",
      "display_name": "Python 3"
    },
    "language_info": {
      "name": "python"
    }
  },
  "cells": [
    {
      "cell_type": "markdown",
      "source": [
        "1. What is a RESTful API?\n",
        "\n",
        "● A RESTful API (Representational State Transfer API) is a way for two computer\n",
        "systems to communicate over the internet using the principles of REST architecture. It\n",
        "is one of the most common types of web APIs used in modern web and mobile\n",
        "applications.\n",
        "2. Explain the concept of API specification?\n",
        "\n",
        "● An API Specification is a detailed blueprint or contract that describes how an API\n",
        "should behave. It tells developers exactly how to interact with the API—what\n",
        "endpoints are available, what parameters to send, what responses to expect, and how\n",
        "errors will be handled.\n",
        "\n",
        "🔧 What Does an API Specification Include?\n",
        "\n",
        "1. Endpoints\n",
        "\n",
        "● The available URLs for accessing resources.\n",
        "\n",
        "● Example: /users, /products/{id}\n",
        "\n",
        "2. HTTP Methods\n",
        "\n",
        "● GET, POST, PUT, DELETE, etc.\n",
        "\n",
        "3. Request Parameters\n",
        "\n",
        "● Query parameters (?page=2), headers, path variables (/users/{id}), and request body.\n",
        "\n",
        "4. Response Format\n",
        "\n",
        "● Structure of the data returned by the API, usually in JSON or XML.\n",
        "\n",
        "5. Status Codes\n",
        "\n",
        "● Standard HTTP codes to indicate the result of the request:\n",
        "\n",
        "● 200 OK, 201 Created, 400 Bad Request, 404 Not Found, etc.\n",
        "\n",
        "6. Authentication Requirements\n",
        "\n",
        "● Tokens, API keys, OAuth, etc.\n",
        "\n",
        "7. Example Requests and Responses\n",
        "\n",
        "● Sample input and output data for better understanding.\n",
        "\n",
        "3. What is Flask, and why is it popular for building APIs?\n",
        "\n",
        "● 🐍 Flask is a lightweight, Python-based web framework used to build web\n",
        "applications and RESTful APIs. It is known for being simple, flexible, and easy to get\n",
        "started with.\n",
        "\n",
        "🚀 Why Flask is Popular for Building APIs:-\n",
        "\n",
        "✅ Minimal & Lightweight\n",
        "\n",
        "● You only use what you need—no bloat. Perfect for small to medium projects.\n",
        "\n",
        "🧩 Extensible\n",
        "\n",
        "● You can add libraries like Flask-RESTful, SQLAlchemy, or JWT for more features.\n",
        "\n",
        "🛠 Easy to Learn\n",
        "\n",
        "● Great for beginners and very readable Python code.\n",
        "\n",
        "🗂 Clear Routing\n",
        "\n",
        "● You can define endpoints using decorators (@app.route) very intuitively.\n",
        "\n",
        "📦 Built-in Development Server\n",
        "\n",
        "● No setup required—run your app with just one command.\n",
        "\n",
        "🔧 REST API Friendly\n",
        "\n",
        "● Easy to build GET, POST, PUT, DELETE routes with JSON responses.\n",
        "\n",
        "4. What is routing in Flask?\n",
        "\n",
        "● In Flask, routing refers to the process of mapping URLs to specific functions (called\n",
        "view functions) that return responses to the browser. This is a core part of web\n",
        "development, as it defines how a web application responds to different URL requests.\n",
        "\n",
        "5. How do you create a simple Flask application?\n",
        "\n",
        "🧰1. Install Flask\n",
        "\n",
        "● First, make sure Flask is installed. Run this in your terminal:\n",
        "pip install flask\n",
        "\n",
        "📝 2. Create a Python File Create a file called app.py and add the following code:\n",
        "\n",
        "from flask import Flask"
      ],
      "metadata": {
        "id": "maygtFPDSREG"
      }
    },
    {
      "cell_type": "code",
      "source": [
        "app = Flask(__name__)\n",
        "\n",
        "@app.route('/')\n",
        "def home():\n",
        "    return \"Hello, World! This is your first Flask app.\"\n",
        "if __name__ == '__main__':\n",
        "     app.run(debug=True)"
      ],
      "metadata": {
        "id": "iCodqyoWUFS0"
      },
      "execution_count": null,
      "outputs": []
    },
    {
      "cell_type": "markdown",
      "source": [
        "▶️ 3. Run the Application In your terminal, run:\n",
        "python app.py\n",
        "\n",
        "You'll see output like:\n",
        "\n",
        "You'll see output like:\n",
        "* Running on http://127.0.0.1:5000/ (Press CTRL+C to quit)\n"
      ],
      "metadata": {
        "id": "nCb0GGW3UhqL"
      }
    },
    {
      "cell_type": "code",
      "source": [
        "Running on http://127.0.0.1:5000/ (Press CTRL+C to quit)\n",
        "\n",
        "\n",
        "“Hello, World! This is your first Flask app.”"
      ],
      "metadata": {
        "id": "gsZsH_MAVGwk"
      },
      "execution_count": null,
      "outputs": []
    },
    {
      "cell_type": "markdown",
      "source": [
        "6. What are HTTP methods used in RESTful APIs?\n",
        "\n",
        "● 🌐 HTTP Methods Used in RESTful APIs In RESTful APIs, HTTP methods define the\n",
        "type of action a client wants to perform on a resource (like users, products, posts,\n",
        "etc.). These methods map to CRUD operations: Create, Read, Update, Delete.\n",
        "\n",
        "7. What is the purpose of the @app.route() decorator in Flask?\n",
        "\n",
        "● 🧩In Flask, the @app.route() decorator is used to map a URL to a specific Python\n",
        "function (called a view function). It tells Flask:\n",
        "\n",
        "🔧 Basic Usage\n",
        "\n"
      ],
      "metadata": {
        "id": "RX3BT2HzViMC"
      }
    },
    {
      "cell_type": "code",
      "source": [
        "from flask import Flask\n",
        "app = Flask(__name__)\n",
        "@app.route('/')\n",
        "def home():\n",
        " return \"Welcome to the Home Page!\""
      ],
      "metadata": {
        "id": "B-nfBDN4V0W0"
      },
      "execution_count": null,
      "outputs": []
    },
    {
      "cell_type": "markdown",
      "source": [
        "🎯 Purpose of @app.route():-\n",
        "\n",
        "📍 URL Mapping-\n",
        "\n",
        "● Connects a specific URL (like /about) to a function.\n",
        "\n",
        "🛣 Routing-\n",
        "\n",
        "● Helps Flask know what function to call for each URL.\n",
        "\n",
        "🧠 Readable & Clean-\n",
        "\n",
        "● Makes it clear which URL triggers which function.\n",
        "\n",
        "⚙️ Supports HTTP Methods-\n",
        "\n",
        "● You can specify allowed methods like GET, POST, etc.\n",
        "\n",
        "8. What is the difference between GET and POST HTTP methods?\n",
        "\n",
        "● 🔁 Difference Between GET and POST HTTP Methods\n",
        "Feature-\n",
        "\n",
        "● 📌 Purpose\n",
        "\n",
        "● 📦 Data Location\n",
        "\n",
        "● 🔐 Security\n",
        "\n",
        "● 📚 Caching\n",
        "\n",
        "● 🔄 Idempotent\n",
        "\n",
        "● 📏 Data Limit\n",
        "\n",
        "● 💡 Use For\n",
        "\n",
        "GET-\n",
        "\n",
        "● Retrieve data from the server\n",
        "\n",
        "● URL (query parameters)\n",
        "\n",
        "● Less secure (data visible in URL)\n",
        "\n",
        "● Can be cached\n",
        "\n",
        "● Yes (repeating gives same result)\n",
        "\n",
        "● Limited (URL length restriction)\n",
        "\n",
        "● Reading/searching data (safe ops)\n",
        "POST\n",
        "\n",
        "● Send data to the server\n",
        "\n",
        "● HTTP request body\n",
        "\n",
        "● More secure (data hidden from URL)\n",
        "\n",
        "● Not cached by default\n",
        "\n",
        "● No (can create duplicate entries)\n",
        "\n",
        "● Can send large data\n",
        "\n",
        "● Submitting forms, uploading data\n",
        "\n",
        "9. How do you handle errors in Flask APIs?\n",
        "\n",
        "● ❗Error handling in Flask is important for providing clear feedback to clients and\n",
        "ensuring your API doesn’t crash when something goes wrong.\n",
        "\n",
        "🔧 1. Using abort() for Common HTTP Errors\n",
        "\n",
        "\n",
        "Flask provides a built-in abort() function to stop a request and return an error code:"
      ],
      "metadata": {
        "id": "je_XQJ5-m_Lu"
      }
    },
    {
      "cell_type": "code",
      "source": [
        "from flask import Flask, abort\n",
        "app = Flask(__name__)\n",
        "@app.route('/user/<int:user_id>')\n",
        "def get_user(user_id):\n",
        "    if user_id != 1:\n",
        "       abort(404)\n",
        "    return {\"id\": 1, \"name\": \"ANSHUL\"}"
      ],
      "metadata": {
        "id": "J-ktKE-inOTC"
      },
      "execution_count": 2,
      "outputs": []
    },
    {
      "cell_type": "markdown",
      "source": [
        "🚨 2. Custom Error Handlers\n",
        "\n",
        "\n",
        "You can define custom responses for specific errors:"
      ],
      "metadata": {
        "id": "9WAGLiPAnhIm"
      }
    },
    {
      "cell_type": "code",
      "source": [
        "from flask import jsonify\n",
        "@app.errorhandler(404)\n",
        "def not_found(error):\n",
        "     return jsonify({\"error\": \"Resource not found\"}), 404\n",
        "@app.errorhandler(500)\n",
        "def internal_error(error):\n",
        "     return jsonify({\"error\": \"Internal server error\"}), 500"
      ],
      "metadata": {
        "id": "C-LsCv2VnpNH"
      },
      "execution_count": 3,
      "outputs": []
    },
    {
      "cell_type": "markdown",
      "source": [
        "🧪 3. Returning Custom Error Responses in Views\n",
        "\n",
        "Instead of letting an error crash the app, return a message manually:"
      ],
      "metadata": {
        "id": "dfYmQA0PoAA4"
      }
    },
    {
      "cell_type": "code",
      "source": [
        "@app.route('/divide')\n",
        "def divide():\n",
        "    try:\n",
        "           result = 10 / 0\n",
        "           return jsonify({\"result\": result})\n",
        "    except ZeroDivisionError:\n",
        "           return jsonify({\"error\": \"Division by zero is not allowed\"}), 400"
      ],
      "metadata": {
        "id": "TfCmh3XgoBtT"
      },
      "execution_count": 4,
      "outputs": []
    },
    {
      "cell_type": "markdown",
      "source": [
        "🛡 4. Validation Errors (With request)\n",
        "\n",
        "Example when processing form data:"
      ],
      "metadata": {
        "id": "wgeS3N9JoiCA"
      }
    },
    {
      "cell_type": "code",
      "source": [
        "from flask import request\n",
        "@app.route('/login', methods=['POST'])\n",
        "def login():\n",
        "    data = request.get_json()\n",
        "    if not data or 'username' not in data:\n",
        "       return jsonify({\"error\": \"Username is required\"}), 400\n",
        "    return jsonify({\"message\": \"Login successful\"})"
      ],
      "metadata": {
        "id": "P8p_wbuxoj7n"
      },
      "execution_count": 5,
      "outputs": []
    },
    {
      "cell_type": "markdown",
      "source": [
        "10. How do you connect Flask to a SQL database?\n",
        "\n",
        "● 🧩Flask doesn’t connect to a database directly — you use extensions like\n",
        "Flask-SQLAlchemy to handle database integration easily.\n",
        "\n",
        "🔧 Step-by-Step Guide to Connect Flask with a SQL Database\n",
        "\n",
        "1️⃣Install Flask and Flask-SQLAlchemy\n",
        "\n",
        "pip install flask flask-sqlalchemy"
      ],
      "metadata": {
        "id": "P8h3pLRlo03b"
      }
    },
    {
      "cell_type": "markdown",
      "source": [
        "2️⃣Create Your Flask App\n"
      ],
      "metadata": {
        "id": "W9KmWKd-pN0V"
      }
    },
    {
      "cell_type": "code",
      "source": [
        "!pip install Flask-SQLAlchemy\n",
        "from flask import Flask\n",
        "from flask_sqlalchemy import SQLAlchemy\n",
        "\n",
        "app = Flask(__name__)\n",
        "\n",
        "app.config['SQLALCHEMY_DATABASE_URI'] = 'sqlite:///students.db' # or\n",
        "app.config['SQLALCHEMY_TRACK_MODIFICATIONS'] = False\n",
        "\n",
        "db = SQLAlchemy(app)"
      ],
      "metadata": {
        "colab": {
          "base_uri": "https://localhost:8080/"
        },
        "id": "tm4xFF4npkiw",
        "outputId": "0069be8e-0fd6-4205-d510-5d3871dfe8b3"
      },
      "execution_count": 8,
      "outputs": [
        {
          "output_type": "stream",
          "name": "stdout",
          "text": [
            "Collecting Flask-SQLAlchemy\n",
            "  Downloading flask_sqlalchemy-3.1.1-py3-none-any.whl.metadata (3.4 kB)\n",
            "Requirement already satisfied: flask>=2.2.5 in /usr/local/lib/python3.11/dist-packages (from Flask-SQLAlchemy) (3.1.1)\n",
            "Requirement already satisfied: sqlalchemy>=2.0.16 in /usr/local/lib/python3.11/dist-packages (from Flask-SQLAlchemy) (2.0.41)\n",
            "Requirement already satisfied: blinker>=1.9.0 in /usr/local/lib/python3.11/dist-packages (from flask>=2.2.5->Flask-SQLAlchemy) (1.9.0)\n",
            "Requirement already satisfied: click>=8.1.3 in /usr/local/lib/python3.11/dist-packages (from flask>=2.2.5->Flask-SQLAlchemy) (8.2.1)\n",
            "Requirement already satisfied: itsdangerous>=2.2.0 in /usr/local/lib/python3.11/dist-packages (from flask>=2.2.5->Flask-SQLAlchemy) (2.2.0)\n",
            "Requirement already satisfied: jinja2>=3.1.2 in /usr/local/lib/python3.11/dist-packages (from flask>=2.2.5->Flask-SQLAlchemy) (3.1.6)\n",
            "Requirement already satisfied: markupsafe>=2.1.1 in /usr/local/lib/python3.11/dist-packages (from flask>=2.2.5->Flask-SQLAlchemy) (3.0.2)\n",
            "Requirement already satisfied: werkzeug>=3.1.0 in /usr/local/lib/python3.11/dist-packages (from flask>=2.2.5->Flask-SQLAlchemy) (3.1.3)\n",
            "Requirement already satisfied: greenlet>=1 in /usr/local/lib/python3.11/dist-packages (from sqlalchemy>=2.0.16->Flask-SQLAlchemy) (3.2.2)\n",
            "Requirement already satisfied: typing-extensions>=4.6.0 in /usr/local/lib/python3.11/dist-packages (from sqlalchemy>=2.0.16->Flask-SQLAlchemy) (4.13.2)\n",
            "Downloading flask_sqlalchemy-3.1.1-py3-none-any.whl (25 kB)\n",
            "Installing collected packages: Flask-SQLAlchemy\n",
            "Successfully installed Flask-SQLAlchemy-3.1.1\n"
          ]
        }
      ]
    },
    {
      "cell_type": "markdown",
      "source": [
        "3️⃣Define Your Database Model (Table)"
      ],
      "metadata": {
        "id": "Jy_DrCSYpuKo"
      }
    },
    {
      "cell_type": "code",
      "source": [
        "class Student(db.Model):\n",
        "      id = db.Column(db.Integer, primary_key=True)\n",
        "name = db.Column(db.String(100))\n",
        "age = db.Column(db.Integer)"
      ],
      "metadata": {
        "id": "Q2WtdV9tpu4v"
      },
      "execution_count": 9,
      "outputs": []
    },
    {
      "cell_type": "markdown",
      "source": [
        "4️⃣Create the Database In a Python shell or inside your script:\n",
        "\n"
      ],
      "metadata": {
        "id": "-czzD1C9p190"
      }
    },
    {
      "cell_type": "code",
      "source": [
        "with app.app_context():\n",
        " db.create_all()"
      ],
      "metadata": {
        "id": "5iObRjHOp3F1"
      },
      "execution_count": 10,
      "outputs": []
    },
    {
      "cell_type": "markdown",
      "source": [
        "5️⃣Insert Data into the Table\n"
      ],
      "metadata": {
        "id": "1L2FGJUvp95p"
      }
    },
    {
      "cell_type": "code",
      "source": [
        "@app.route('/add', endpoint='add_student_route') # Explicitly define a unique endpoint name\n",
        "def add_student():\n",
        "    new_student = Student(name=\"anshul\", age=21)\n",
        "    db.session.add(new_student)\n",
        "    db.session.commit()\n",
        "    return \"Student added!\""
      ],
      "metadata": {
        "id": "jreBpixGqo4J"
      },
      "execution_count": 38,
      "outputs": []
    },
    {
      "cell_type": "markdown",
      "source": [
        "6️⃣Retrieve Data from the Table"
      ],
      "metadata": {
        "id": "Naqa5YLLq5Yb"
      }
    },
    {
      "cell_type": "code",
      "source": [
        "# Remove these definitions as they are leftovers and not part of the function causing the error.\n",
        "# name = db.Column(db.String(100))\n",
        "# age = db.Column(db.Integer)\n",
        "\n",
        "@app.route('/students')\n",
        "def get_students():\n",
        "    # These lines need to be indented to be part of the function body\n",
        "    students = Student.query.all()\n",
        "    return { \"students\": [ {\"id\": s.id, \"name\": s.name, \"age\": s.age} for\n",
        "s in students ] }"
      ],
      "metadata": {
        "colab": {
          "base_uri": "https://localhost:8080/",
          "height": 365
        },
        "id": "IGktE-m6rHHD",
        "outputId": "74faef79-699f-4771-d571-3039db9d3fe2"
      },
      "execution_count": 39,
      "outputs": [
        {
          "output_type": "error",
          "ename": "AssertionError",
          "evalue": "View function mapping is overwriting an existing endpoint function: get_students",
          "traceback": [
            "\u001b[0;31m---------------------------------------------------------------------------\u001b[0m",
            "\u001b[0;31mAssertionError\u001b[0m                            Traceback (most recent call last)",
            "\u001b[0;32m<ipython-input-39-1af74f9662fc>\u001b[0m in \u001b[0;36m<cell line: 0>\u001b[0;34m()\u001b[0m\n\u001b[1;32m      3\u001b[0m \u001b[0;31m# age = db.Column(db.Integer)\u001b[0m\u001b[0;34m\u001b[0m\u001b[0;34m\u001b[0m\u001b[0m\n\u001b[1;32m      4\u001b[0m \u001b[0;34m\u001b[0m\u001b[0m\n\u001b[0;32m----> 5\u001b[0;31m \u001b[0;34m@\u001b[0m\u001b[0mapp\u001b[0m\u001b[0;34m.\u001b[0m\u001b[0mroute\u001b[0m\u001b[0;34m(\u001b[0m\u001b[0;34m'/students'\u001b[0m\u001b[0;34m)\u001b[0m\u001b[0;34m\u001b[0m\u001b[0;34m\u001b[0m\u001b[0m\n\u001b[0m\u001b[1;32m      6\u001b[0m \u001b[0;32mdef\u001b[0m \u001b[0mget_students\u001b[0m\u001b[0;34m(\u001b[0m\u001b[0;34m)\u001b[0m\u001b[0;34m:\u001b[0m\u001b[0;34m\u001b[0m\u001b[0;34m\u001b[0m\u001b[0m\n\u001b[1;32m      7\u001b[0m     \u001b[0;31m# These lines need to be indented to be part of the function body\u001b[0m\u001b[0;34m\u001b[0m\u001b[0;34m\u001b[0m\u001b[0m\n",
            "\u001b[0;32m/usr/local/lib/python3.11/dist-packages/flask/sansio/scaffold.py\u001b[0m in \u001b[0;36mdecorator\u001b[0;34m(f)\u001b[0m\n\u001b[1;32m    360\u001b[0m         \u001b[0;32mdef\u001b[0m \u001b[0mdecorator\u001b[0m\u001b[0;34m(\u001b[0m\u001b[0mf\u001b[0m\u001b[0;34m:\u001b[0m \u001b[0mT_route\u001b[0m\u001b[0;34m)\u001b[0m \u001b[0;34m->\u001b[0m \u001b[0mT_route\u001b[0m\u001b[0;34m:\u001b[0m\u001b[0;34m\u001b[0m\u001b[0;34m\u001b[0m\u001b[0m\n\u001b[1;32m    361\u001b[0m             \u001b[0mendpoint\u001b[0m \u001b[0;34m=\u001b[0m \u001b[0moptions\u001b[0m\u001b[0;34m.\u001b[0m\u001b[0mpop\u001b[0m\u001b[0;34m(\u001b[0m\u001b[0;34m\"endpoint\"\u001b[0m\u001b[0;34m,\u001b[0m \u001b[0;32mNone\u001b[0m\u001b[0;34m)\u001b[0m\u001b[0;34m\u001b[0m\u001b[0;34m\u001b[0m\u001b[0m\n\u001b[0;32m--> 362\u001b[0;31m             \u001b[0mself\u001b[0m\u001b[0;34m.\u001b[0m\u001b[0madd_url_rule\u001b[0m\u001b[0;34m(\u001b[0m\u001b[0mrule\u001b[0m\u001b[0;34m,\u001b[0m \u001b[0mendpoint\u001b[0m\u001b[0;34m,\u001b[0m \u001b[0mf\u001b[0m\u001b[0;34m,\u001b[0m \u001b[0;34m**\u001b[0m\u001b[0moptions\u001b[0m\u001b[0;34m)\u001b[0m\u001b[0;34m\u001b[0m\u001b[0;34m\u001b[0m\u001b[0m\n\u001b[0m\u001b[1;32m    363\u001b[0m             \u001b[0;32mreturn\u001b[0m \u001b[0mf\u001b[0m\u001b[0;34m\u001b[0m\u001b[0;34m\u001b[0m\u001b[0m\n\u001b[1;32m    364\u001b[0m \u001b[0;34m\u001b[0m\u001b[0m\n",
            "\u001b[0;32m/usr/local/lib/python3.11/dist-packages/flask/sansio/scaffold.py\u001b[0m in \u001b[0;36mwrapper_func\u001b[0;34m(self, *args, **kwargs)\u001b[0m\n\u001b[1;32m     45\u001b[0m     \u001b[0;32mdef\u001b[0m \u001b[0mwrapper_func\u001b[0m\u001b[0;34m(\u001b[0m\u001b[0mself\u001b[0m\u001b[0;34m:\u001b[0m \u001b[0mScaffold\u001b[0m\u001b[0;34m,\u001b[0m \u001b[0;34m*\u001b[0m\u001b[0margs\u001b[0m\u001b[0;34m:\u001b[0m \u001b[0mt\u001b[0m\u001b[0;34m.\u001b[0m\u001b[0mAny\u001b[0m\u001b[0;34m,\u001b[0m \u001b[0;34m**\u001b[0m\u001b[0mkwargs\u001b[0m\u001b[0;34m:\u001b[0m \u001b[0mt\u001b[0m\u001b[0;34m.\u001b[0m\u001b[0mAny\u001b[0m\u001b[0;34m)\u001b[0m \u001b[0;34m->\u001b[0m \u001b[0mt\u001b[0m\u001b[0;34m.\u001b[0m\u001b[0mAny\u001b[0m\u001b[0;34m:\u001b[0m\u001b[0;34m\u001b[0m\u001b[0;34m\u001b[0m\u001b[0m\n\u001b[1;32m     46\u001b[0m         \u001b[0mself\u001b[0m\u001b[0;34m.\u001b[0m\u001b[0m_check_setup_finished\u001b[0m\u001b[0;34m(\u001b[0m\u001b[0mf_name\u001b[0m\u001b[0;34m)\u001b[0m\u001b[0;34m\u001b[0m\u001b[0;34m\u001b[0m\u001b[0m\n\u001b[0;32m---> 47\u001b[0;31m         \u001b[0;32mreturn\u001b[0m \u001b[0mf\u001b[0m\u001b[0;34m(\u001b[0m\u001b[0mself\u001b[0m\u001b[0;34m,\u001b[0m \u001b[0;34m*\u001b[0m\u001b[0margs\u001b[0m\u001b[0;34m,\u001b[0m \u001b[0;34m**\u001b[0m\u001b[0mkwargs\u001b[0m\u001b[0;34m)\u001b[0m\u001b[0;34m\u001b[0m\u001b[0;34m\u001b[0m\u001b[0m\n\u001b[0m\u001b[1;32m     48\u001b[0m \u001b[0;34m\u001b[0m\u001b[0m\n\u001b[1;32m     49\u001b[0m     \u001b[0;32mreturn\u001b[0m \u001b[0mt\u001b[0m\u001b[0;34m.\u001b[0m\u001b[0mcast\u001b[0m\u001b[0;34m(\u001b[0m\u001b[0mF\u001b[0m\u001b[0;34m,\u001b[0m \u001b[0mupdate_wrapper\u001b[0m\u001b[0;34m(\u001b[0m\u001b[0mwrapper_func\u001b[0m\u001b[0;34m,\u001b[0m \u001b[0mf\u001b[0m\u001b[0;34m)\u001b[0m\u001b[0;34m)\u001b[0m\u001b[0;34m\u001b[0m\u001b[0;34m\u001b[0m\u001b[0m\n",
            "\u001b[0;32m/usr/local/lib/python3.11/dist-packages/flask/sansio/app.py\u001b[0m in \u001b[0;36madd_url_rule\u001b[0;34m(self, rule, endpoint, view_func, provide_automatic_options, **options)\u001b[0m\n\u001b[1;32m    655\u001b[0m             \u001b[0mold_func\u001b[0m \u001b[0;34m=\u001b[0m \u001b[0mself\u001b[0m\u001b[0;34m.\u001b[0m\u001b[0mview_functions\u001b[0m\u001b[0;34m.\u001b[0m\u001b[0mget\u001b[0m\u001b[0;34m(\u001b[0m\u001b[0mendpoint\u001b[0m\u001b[0;34m)\u001b[0m\u001b[0;34m\u001b[0m\u001b[0;34m\u001b[0m\u001b[0m\n\u001b[1;32m    656\u001b[0m             \u001b[0;32mif\u001b[0m \u001b[0mold_func\u001b[0m \u001b[0;32mis\u001b[0m \u001b[0;32mnot\u001b[0m \u001b[0;32mNone\u001b[0m \u001b[0;32mand\u001b[0m \u001b[0mold_func\u001b[0m \u001b[0;34m!=\u001b[0m \u001b[0mview_func\u001b[0m\u001b[0;34m:\u001b[0m\u001b[0;34m\u001b[0m\u001b[0;34m\u001b[0m\u001b[0m\n\u001b[0;32m--> 657\u001b[0;31m                 raise AssertionError(\n\u001b[0m\u001b[1;32m    658\u001b[0m                     \u001b[0;34m\"View function mapping is overwriting an existing\"\u001b[0m\u001b[0;34m\u001b[0m\u001b[0;34m\u001b[0m\u001b[0m\n\u001b[1;32m    659\u001b[0m                     \u001b[0;34mf\" endpoint function: {endpoint}\"\u001b[0m\u001b[0;34m\u001b[0m\u001b[0;34m\u001b[0m\u001b[0m\n",
            "\u001b[0;31mAssertionError\u001b[0m: View function mapping is overwriting an existing endpoint function: get_students"
          ]
        }
      ]
    },
    {
      "cell_type": "markdown",
      "source": [
        "11. What is the role of Flask-SQLAlchemy?\n",
        "\n",
        "● 🧩Flask-SQLAlchemy is an extension for Flask that adds SQL database support to\n",
        "your Flask applications using SQLAlchemy ORM (Object Relational Mapper).\n",
        "\n",
        "🎯 Key Roles of Flask-SQLAlchemy\n",
        "\n",
        "🛠 Database Setup-\n",
        "\n",
        "● Connects Flask to a SQL database easily.\n",
        "\n",
        "🧠 ORM Functionality-\n",
        "\n",
        "● Lets you interact with database tables as Python classes.\n",
        "\n",
        "✅ Query Simplification-\n",
        "\n",
        "● Helps you write Pythonic queries instead of raw SQL.\n",
        "\n",
        "📦 Data Models-\n",
        "\n",
        "● Allows you to define tables using Python classes (db.Model)\n",
        "\n",
        "🔁 Session Management-\n",
        "\n",
        "● Handles database transactions (insert, update, delete, etc.)\n",
        "\n",
        "🧪 Migration Support-\n",
        "\n",
        "● Works well with tools like Flask-Migrate for version control of your DB schema\n",
        "\n",
        "12. What are Flask blueprints, and how are they useful?\n",
        "\n",
        "● 🧩Flask Blueprints are a way to organize your Flask application into smaller, reusable\n",
        "components. They allow you to split a large app into modular parts, making the code\n",
        "cleaner and easier to manage.\n",
        "\n",
        "\n",
        "🎯 Why Use Blueprints?\n",
        "\n",
        "📦 Modularity\n",
        "\n",
        "● Keep routes, views, and logic separate for different features (e.g., auth, dashboard).\n",
        "\n",
        "🔁 Reusability\n",
        "\n",
        "● You can reuse the same blueprint in multiple projects.\n",
        "\n",
        "🧩 Scalability\n",
        "\n",
        "● Makes your app structure more maintainable as it grows.\n",
        "\n",
        "✅ Clarity\n",
        "\n",
        "● Keeps your app.py clean and focused.\n",
        "\n",
        "13. What is the purpose of Flask's request object?\n",
        "\n",
        "● 📥The request object in Flask is used to access incoming request data sent by the\n",
        "client (like a browser, mobile app, or Postman).\n",
        "\n",
        "It is part of Flask’s flask module and provides all the info related to an HTTP request.\n",
        "\n",
        "🎯 Key Purposes of the request Object:-\n",
        "\n",
        "📦 request.args-\n",
        "\n",
        "● Get data from the URL query string (GET method).\n",
        "\n",
        "📄 request.form-\n",
        "\n",
        "● Get data from an HTML form (POST method).\n",
        "\n",
        "🧪 request.json-\n",
        "\n",
        "● Get JSON data from API requests.\n",
        "\n",
        "📁 request.files-\n",
        "\n",
        "● Handle file uploads.\n",
        "\n",
        "🧭 request.method-\n",
        "\n",
        "● Know whether the request is GET, POST, etc.\n",
        "\n",
        "🌐 request.headers-\n",
        "\n",
        "● Access HTTP request headers.\n",
        "\n",
        "🌍 request.remote_addr-\n",
        "\n",
        "● Get the client’s IP address.\n",
        "\n",
        "14. How do you create a RESTful API endpoint using Flask?\n",
        "\n",
        "● 🛠A RESTful API endpoint allows clients to interact with your server using standard\n",
        "HTTP methods like GET, POST, PUT, and DELETE.\n",
        "\n",
        "✅ Step-by-Step Example\n",
        "\n",
        "Let’s create a simple Flask API that manages a list of users.\n",
        "\n",
        "\n",
        "1️⃣Install Flask"
      ],
      "metadata": {
        "id": "DyzBQbOxrVYE"
      }
    },
    {
      "cell_type": "code",
      "source": [
        "pip install flask"
      ],
      "metadata": {
        "colab": {
          "base_uri": "https://localhost:8080/"
        },
        "id": "BeHrt8LbsDtg",
        "outputId": "cb29aa3e-8a8b-426c-d873-e746c1e17ce2"
      },
      "execution_count": 40,
      "outputs": [
        {
          "output_type": "stream",
          "name": "stdout",
          "text": [
            "Requirement already satisfied: flask in /usr/local/lib/python3.11/dist-packages (3.1.1)\n",
            "Requirement already satisfied: blinker>=1.9.0 in /usr/local/lib/python3.11/dist-packages (from flask) (1.9.0)\n",
            "Requirement already satisfied: click>=8.1.3 in /usr/local/lib/python3.11/dist-packages (from flask) (8.2.1)\n",
            "Requirement already satisfied: itsdangerous>=2.2.0 in /usr/local/lib/python3.11/dist-packages (from flask) (2.2.0)\n",
            "Requirement already satisfied: jinja2>=3.1.2 in /usr/local/lib/python3.11/dist-packages (from flask) (3.1.6)\n",
            "Requirement already satisfied: markupsafe>=2.1.1 in /usr/local/lib/python3.11/dist-packages (from flask) (3.0.2)\n",
            "Requirement already satisfied: werkzeug>=3.1.0 in /usr/local/lib/python3.11/dist-packages (from flask) (3.1.3)\n"
          ]
        }
      ]
    },
    {
      "cell_type": "markdown",
      "source": [
        "2️⃣Basic Flask API Code"
      ],
      "metadata": {
        "id": "bvrvZYAZsqnx"
      }
    },
    {
      "cell_type": "code",
      "source": [
        "from flask import Flask, request, jsonify\n",
        "\n",
        "app = Flask(__name__)\n",
        "\n",
        "users = [\n",
        "    {\"id\": 1, \"name\": \"Anshul\"},\n",
        "    {\"id\": 2, \"name\": \"tiwari\"}\n",
        "]\n",
        "\n",
        "@app.route('/users', methods=['GET'])\n",
        "def get_users():\n",
        "  return jsonify(users)\n",
        "\n",
        "@app.route('/users', methods=['POST'])\n",
        "def add_user():\n",
        "  data = request.get_json()\n",
        "  new_user = {\n",
        "      \"id\": len(users) + 1,\n",
        "      \"name\": data['name']\n",
        "  }\n",
        "  users.append(new_user)\n",
        "  return jsonify(new_user), 201\n",
        "\n",
        "@app.route('/users/<int:user_id>', methods=['GET'])\n",
        "def get_user(user_id):\n",
        "  user = next((u for u in users if u[\"id\"] == user_id), None)\n",
        "  if user:\n",
        "      return jsonify(user)\n",
        "  return jsonify({\"error\": \"User not found\"}), 404\n",
        "\n",
        "@app.route('/users/<int:user_id>', methods=['DELETE'])\n",
        "def delete_user(user_id):\n",
        "  global users\n",
        "  users = [u for u in users if u[\"id\"] != user_id]\n",
        "  return jsonify({\"message\": \"User deleted\"})\n",
        "\n",
        "if __name__ == '__main__':\n",
        "  app.run(debug=True)"
      ],
      "metadata": {
        "id": "j76_keTZtkYX"
      },
      "execution_count": null,
      "outputs": []
    },
    {
      "cell_type": "markdown",
      "source": [
        "15.What is the purpose of Flask's jsonify() function?\n",
        "\n",
        "● 🧪The jsonify() function in Flask is used to convert Python data (like dictionaries and\n",
        "lists) into JSON format, which is the standard format used in APIs.\n",
        "\n",
        "🎯 Why Use jsonify()?\n",
        "\n",
        " 🔁 Converts Python ➝ JSON-\n",
        "\n",
        "● Automatically converts Python dict, list, etc. into JSON.\n",
        "\n",
        "🧾 Sets Proper Headers-\n",
        "\n",
        "● Sets the Content-Type: application/json header.\n",
        "\n",
        "🚀 Returns Valid API Responses-\n",
        "\n",
        "● Ensures API clients (like Postman or frontend apps) receive JSON.\n",
        "\n",
        "🔐 Safe Encoding-\n",
        "\n",
        "● Prevents security issues like XSS by escaping characters properly\n",
        "\n",
        "16. Explain Flask’s url_for() function.\n",
        "\n",
        "✅ Definition:\n",
        "\n",
        "● url_for() is a built-in Flask function used to dynamically build URLs for your Flask app\n",
        "based on the function name of a route, rather than hardcoding the actual URL path.\n",
        "\n",
        "🎯 Purpose:\n",
        "\n",
        "The main goal of url_for() is to ensure that URL building in your app is:\n",
        "\n",
        "● Dynamic (updates automatically if route changes)\n",
        "\n",
        "● Reliable (avoids typos and broken links)\n",
        "\n",
        "● Clean and maintainable\n",
        "\n",
        "🧠 How It Works:\n",
        "\n",
        "● Instead of writing URLs as plain strings (like /home), you refer to the name of the view\n",
        "function, and Flask will generate the correct URL for you.\n",
        "\n",
        "Example-"
      ],
      "metadata": {
        "id": "U38H4gnht9CQ"
      }
    },
    {
      "cell_type": "code",
      "source": [
        "@app.route('/dashboard')\n",
        "def dashboard():\n",
        " return \"Welcome to dashboard\""
      ],
      "metadata": {
        "id": "rjaPBUKqvTve"
      },
      "execution_count": null,
      "outputs": []
    },
    {
      "cell_type": "markdown",
      "source": [
        "17. How does Flask handle static files (CSS, JavaScript, etc.)?\n",
        "\n",
        "Flask uses a special folder named static/ to serve static files like:\n",
        "\n",
        "● 🎨 CSS files\n",
        "\n",
        "● ⚙️ JavaScript files\n",
        "\n",
        "● 🖼 Images\n",
        "\n",
        "● 📁 Fonts and other frontend assets\n",
        "\n",
        "📁 Default Project Structure\n",
        "\n",
        "your_project/\n",
        "│\n",
        "├── app.py\n",
        "├── static/\n",
        "│ ├── style.css\n",
        "│ └── script.js\n",
        "├── templates/\n",
        "│ └── index.html"
      ],
      "metadata": {
        "id": "2Wq3esthugz1"
      }
    },
    {
      "cell_type": "markdown",
      "source": [
        "🧠 How It Works\n",
        "\n",
        "● Flask automatically looks for static files in the /static/ directory.\n",
        "\n",
        "● These files can be accessed in your browser using the URL:"
      ],
      "metadata": {
        "id": "69RLIbuBvmNf"
      }
    },
    {
      "cell_type": "code",
      "source": [
        "http://localhost:5000/static/filename"
      ],
      "metadata": {
        "id": "keXoa518voOY"
      },
      "execution_count": null,
      "outputs": []
    },
    {
      "cell_type": "markdown",
      "source": [
        "18. What is an API specification, and how does it help in building a Flask API?\n",
        "\n",
        "● ✅An API specification is a formal, structured description of how an API should\n",
        "behave. It defines the endpoints, HTTP methods, request and response formats,\n",
        "parameters, authentication rules, and error codes that the API will use.\n",
        "\n",
        "📌 Key Elements Typically Included:\n",
        "\n",
        "● Base URL: The root path of the API (e.g., https://api.example.com)\n",
        "\n",
        "● Endpoints: Paths like /users, /products/\n",
        "\n",
        "● HTTP Methods: Such as GET, POST, PUT, DELETE\n",
        "\n",
        "● Request Parameters: Inputs via path, query, or body\n",
        "\n",
        "● Response Format: Usually JSON or XML\n",
        "\n",
        "● Status Codes: Such as 200 OK, 404 Not Found, 500 Internal Server Error\n",
        "\n",
        "● Authentication: Like API keys, JWT tokens, OAuth\n",
        "\n",
        "🛠 How It Helps in Building a Flask API\n",
        "\n",
        "1.Clear Structure and Planning\n",
        "\n",
        "● The specification acts as a design document, helping developers plan the structure\n",
        "and behavior of the Flask API before writing code.\n",
        "\n",
        "2.Improves Collaboration\n",
        "\n",
        "● Frontend and backend developers can work independently using the API spec as a\n",
        "shared contract.\n",
        "\n",
        "3.Documentation Generation\n",
        "\n",
        "● Tools like Swagger (OpenAPI) can generate interactive documentation directly from\n",
        "the spec, making it easier for others to understand and use the API.\n",
        "\n",
        "4.Easier Testing and Validation\n",
        "\n",
        "● With a defined specification, it becomes easier to test endpoints and validate inputs\n",
        "and outputs consistently.\n",
        "\n",
        "5.Better Maintainability\n",
        "\n",
        "● A spec ensures that the API remains consistent and understandable even as the\n",
        "project grows or changes over time\n",
        "\n",
        "19. What are HTTP status codes, and why are they important in a Flask API?\n",
        "\n",
        "● ✅HTTP status codes are standardized 3-digit numerical codes that a web server\n",
        "returns in response to an HTTP request made by a client (like a browser or an API\n",
        "consumer).\n",
        "\n",
        "● These codes indicate the outcome of the request, such as:\n",
        "\n",
        "● Whether it was successful,\n",
        "\n",
        "● If there was an error,\n",
        "\n",
        "● Or if further action is needed.\n",
        "\n",
        "🔑 Why Are They Important in a Flask API?\n",
        "\n",
        "1.Clear Communication\n",
        "\n",
        "● Status codes allow the server (Flask app) to communicate the result of a request\n",
        "clearly to the client (e.g., browser, mobile app, frontend).\n",
        "\n",
        "2.Improved Error Handling\n",
        "\n",
        "● The client can detect problems (like 404 Not Found or 400 Bad Request) and take\n",
        "appropriate actions.\n",
        "\n",
        "3.Helps Debugging\n",
        "\n",
        "● Developers can easily identify what went wrong in the request/response cycle.\n",
        "\n",
        "4.Follows REST Standards\n",
        "\n",
        "● Proper use of status codes makes a Flask API RESTful and aligns it with industry\n",
        "standards.\n",
        "\n",
        "5.Better User Experience\n",
        "\n",
        "● Applications using the API can show meaningful messages or actions to users based\n",
        "on the status code.\n",
        "\n",
        "20. How do you handle POST requests in Flask?\n",
        "\n",
        "● ✅ What is a POST Request? A POST request is used to send data from the client\n",
        "(such as a form or app) to the server, typically to create a new resource. In Flask, you\n",
        "can handle POST requests using the @app.route() decorator with methods=[\"POST\"].\n",
        "\n",
        "🧪 Example: Handling a POST Request in Flask"
      ],
      "metadata": {
        "id": "h1ZaChmNwJlO"
      }
    },
    {
      "cell_type": "code",
      "source": [
        "from flask import Flask, request, jsonify\n",
        "app = Flask(__name__)\n",
        "@app.route('/submit', methods=['POST'])\n",
        "def submit_data():\n",
        "    # Get JSON data from the request\n",
        "    data = request.get_json()\n",
        "    name = data.get('name')\n",
        "    age = data.get('age')\n",
        "    return jsonify({\"message\": \"Data received\", \"name\": name, \"age\":\n",
        "age}), 201"
      ],
      "metadata": {
        "id": "h62nUDhsxIRw"
      },
      "execution_count": 41,
      "outputs": []
    },
    {
      "cell_type": "markdown",
      "source": [
        "21. How would you secure a Flask API?\n",
        "\n",
        "● 🔒Securing a Flask API is essential to protect data, prevent unauthorized access, and\n",
        "ensure safe communication between clients and the server. Here’s a theoretical\n",
        "overview of how to secure a Flask API effectively:\n",
        "\n",
        "✅ 1. Authentication\n",
        "\n",
        "Authentication verifies who the user is.\n",
        "\n",
        "Common methods:\n",
        "\n",
        "● API Keys: Send a secret key in headers (X-API-Key) with each request.\n",
        "\n",
        "JWT (JSON Web Tokens): Token-based system for stateless authentication.\n",
        "OAuth 2.0: Used for third-party logins (like Google, GitHub).\n",
        "\n",
        "\n",
        "🔐 Example with JWT:"
      ],
      "metadata": {
        "id": "KVbQkdMdxmbN"
      }
    },
    {
      "cell_type": "code",
      "source": [
        "!pip install Flask-JWT-Extended\n",
        "from flask_jwt_extended import JWTManager, jwt_required\n",
        "# Initialize JWT\n",
        "\n",
        "app.config['JWT_SECRET_KEY'] = 'your-secret-key'\n",
        "jwt = JWTManager(app)\n",
        "@app.route('/protected')\n",
        "@jwt_required()\n",
        "def protected():\n",
        "   return jsonify(message=\"Access granted\")"
      ],
      "metadata": {
        "colab": {
          "base_uri": "https://localhost:8080/"
        },
        "id": "dyfqAX9Kx47j",
        "outputId": "7ba851a3-90ab-494c-a67c-bdafa4b6e2db"
      },
      "execution_count": 43,
      "outputs": [
        {
          "output_type": "stream",
          "name": "stdout",
          "text": [
            "Collecting Flask-JWT-Extended\n",
            "  Downloading Flask_JWT_Extended-4.7.1-py2.py3-none-any.whl.metadata (3.8 kB)\n",
            "Requirement already satisfied: Werkzeug>=0.14 in /usr/local/lib/python3.11/dist-packages (from Flask-JWT-Extended) (3.1.3)\n",
            "Requirement already satisfied: Flask<4.0,>=2.0 in /usr/local/lib/python3.11/dist-packages (from Flask-JWT-Extended) (3.1.1)\n",
            "Requirement already satisfied: PyJWT<3.0,>=2.0 in /usr/local/lib/python3.11/dist-packages (from Flask-JWT-Extended) (2.10.1)\n",
            "Requirement already satisfied: blinker>=1.9.0 in /usr/local/lib/python3.11/dist-packages (from Flask<4.0,>=2.0->Flask-JWT-Extended) (1.9.0)\n",
            "Requirement already satisfied: click>=8.1.3 in /usr/local/lib/python3.11/dist-packages (from Flask<4.0,>=2.0->Flask-JWT-Extended) (8.2.1)\n",
            "Requirement already satisfied: itsdangerous>=2.2.0 in /usr/local/lib/python3.11/dist-packages (from Flask<4.0,>=2.0->Flask-JWT-Extended) (2.2.0)\n",
            "Requirement already satisfied: jinja2>=3.1.2 in /usr/local/lib/python3.11/dist-packages (from Flask<4.0,>=2.0->Flask-JWT-Extended) (3.1.6)\n",
            "Requirement already satisfied: markupsafe>=2.1.1 in /usr/local/lib/python3.11/dist-packages (from Flask<4.0,>=2.0->Flask-JWT-Extended) (3.0.2)\n",
            "Downloading Flask_JWT_Extended-4.7.1-py2.py3-none-any.whl (22 kB)\n",
            "Installing collected packages: Flask-JWT-Extended\n",
            "Successfully installed Flask-JWT-Extended-4.7.1\n"
          ]
        }
      ]
    },
    {
      "cell_type": "markdown",
      "source": [
        "✅ 2. Authorization\n",
        "\n",
        "Authorization determines what the user is allowed to do.\n",
        "\n",
        "Example: A user may be allowed to read a post, but not delete it. You implement this by\n",
        "checking user roles or permissions in each endpoint.\n",
        "\n",
        "✅ 3. HTTPS (SSL/TLS)\n",
        "\n",
        "Always run your Flask app over HTTPS, not HTTP. It encrypts the communication between\n",
        "client and server to protect sensitive data.\n",
        "\n",
        "✅ 4. Input Validation and Sanitization\n",
        "\n",
        "● Never trust user input. Use validation to prevent:\n",
        "\n",
        "● SQL Injection\n",
        "\n",
        "● XSS (Cross-Site Scripting)\n",
        "\n",
        "● CSRF (Cross-Site Request Forgery)\n",
        "\n",
        "✔️ Use libraries like:\n",
        "\n",
        "● marshmallow for JSON schema validation\n",
        "\n",
        "● WTForms for form validation\n",
        "\n",
        "✅ 5. Rate Limiting\n",
        "\n",
        "Prevent abuse or DDoS attacks by limiting the number of requests per user/IP.\n",
        "📦 Use Flask extensions like:\n",
        "\n",
        "● Flask-Limiter\n",
        "\n",
        "✅ 6. Use Environment Variables for Secrets\n",
        "\n",
        "Never hardcode API keys or passwords. Store them securely using:\n",
        "\n",
        "● .env files + python-dotenv\n",
        "\n",
        "● Environment variables (os.environ)\n",
        "\n",
        "✅ 7. Error Handling\n",
        "\n",
        "Never expose internal server errors to users. Instead:\n",
        "\n",
        "● Show generic error messages\n",
        "\n",
        "● Log details on the backend for debugging\n",
        "\n",
        "✅ 8. Enable CORS Carefully\n",
        "\n",
        "If your API is accessed from browsers, configure Cross-Origin Resource Sharing (CORS)\n",
        "securely.\n",
        "\n",
        "📦 Use:"
      ],
      "metadata": {
        "id": "hpnI8_SvyGRd"
      }
    },
    {
      "cell_type": "code",
      "source": [
        "!pip install Flask-Cors # Install the Flask-Cors library\n",
        "from flask_cors import CORS\n",
        "CORS(app, resources={r\"/api/*\": {\"origins\": \"https://your-frontend.com\"}})"
      ],
      "metadata": {
        "colab": {
          "base_uri": "https://localhost:8080/"
        },
        "id": "jxCSCodyyx1-",
        "outputId": "3b8780cf-3646-41b1-e517-22d76e4025e3"
      },
      "execution_count": 45,
      "outputs": [
        {
          "output_type": "stream",
          "name": "stdout",
          "text": [
            "Collecting Flask-Cors\n",
            "  Downloading flask_cors-6.0.0-py3-none-any.whl.metadata (961 bytes)\n",
            "Requirement already satisfied: flask>=0.9 in /usr/local/lib/python3.11/dist-packages (from Flask-Cors) (3.1.1)\n",
            "Requirement already satisfied: Werkzeug>=0.7 in /usr/local/lib/python3.11/dist-packages (from Flask-Cors) (3.1.3)\n",
            "Requirement already satisfied: blinker>=1.9.0 in /usr/local/lib/python3.11/dist-packages (from flask>=0.9->Flask-Cors) (1.9.0)\n",
            "Requirement already satisfied: click>=8.1.3 in /usr/local/lib/python3.11/dist-packages (from flask>=0.9->Flask-Cors) (8.2.1)\n",
            "Requirement already satisfied: itsdangerous>=2.2.0 in /usr/local/lib/python3.11/dist-packages (from flask>=0.9->Flask-Cors) (2.2.0)\n",
            "Requirement already satisfied: jinja2>=3.1.2 in /usr/local/lib/python3.11/dist-packages (from flask>=0.9->Flask-Cors) (3.1.6)\n",
            "Requirement already satisfied: markupsafe>=2.1.1 in /usr/local/lib/python3.11/dist-packages (from flask>=0.9->Flask-Cors) (3.0.2)\n",
            "Downloading flask_cors-6.0.0-py3-none-any.whl (11 kB)\n",
            "Installing collected packages: Flask-Cors\n",
            "Successfully installed Flask-Cors-6.0.0\n"
          ]
        },
        {
          "output_type": "execute_result",
          "data": {
            "text/plain": [
              "<flask_cors.extension.CORS at 0x7f544103e4d0>"
            ]
          },
          "metadata": {},
          "execution_count": 45
        }
      ]
    },
    {
      "cell_type": "markdown",
      "source": [
        "22. What is the significance of the Flask-RESTful extension?\n",
        "\n",
        "● ✅Flask-RESTful is an extension for Flask that helps you quickly build RESTful APIs\n",
        "by providing tools and abstractions for:\n",
        "\n",
        "● Routing\n",
        "\n",
        "● Request parsing\n",
        "\n",
        "● Input validation\n",
        "\n",
        "● Standardized response formatting\n",
        "\n",
        "It is built on top of Flask and simplifies the process of creating clean, modular, and\n",
        "maintainable API code.\n",
        "\n",
        "🎯 Significance / Benefits of Using Flask-RESTful\n",
        "\n",
        "1. ✅ Class-Based Resource Handling\n",
        "\n",
        "● Allows you to define API endpoints using Python classes instead of functions.\n",
        "\n",
        "● Each HTTP method is defined as a method (get(), post(), etc.) in a class."
      ],
      "metadata": {
        "id": "RKu6p6Jx0oT-"
      }
    },
    {
      "cell_type": "code",
      "source": [
        "!pip install Flask-RESTful\n",
        "from flask_restful import Resource\n",
        "\n",
        "class Hello(Resource):\n",
        " def get(self):\n",
        "  return {\"message\": \"Hello, World!\"}"
      ],
      "metadata": {
        "colab": {
          "base_uri": "https://localhost:8080/"
        },
        "id": "Opq6YI_j13bx",
        "outputId": "e49b6cee-ca97-4652-9992-e027cc3a8acc"
      },
      "execution_count": 47,
      "outputs": [
        {
          "output_type": "stream",
          "name": "stdout",
          "text": [
            "Collecting Flask-RESTful\n",
            "  Downloading Flask_RESTful-0.3.10-py2.py3-none-any.whl.metadata (1.0 kB)\n",
            "Collecting aniso8601>=0.82 (from Flask-RESTful)\n",
            "  Downloading aniso8601-10.0.1-py2.py3-none-any.whl.metadata (23 kB)\n",
            "Requirement already satisfied: Flask>=0.8 in /usr/local/lib/python3.11/dist-packages (from Flask-RESTful) (3.1.1)\n",
            "Requirement already satisfied: six>=1.3.0 in /usr/local/lib/python3.11/dist-packages (from Flask-RESTful) (1.17.0)\n",
            "Requirement already satisfied: pytz in /usr/local/lib/python3.11/dist-packages (from Flask-RESTful) (2025.2)\n",
            "Requirement already satisfied: blinker>=1.9.0 in /usr/local/lib/python3.11/dist-packages (from Flask>=0.8->Flask-RESTful) (1.9.0)\n",
            "Requirement already satisfied: click>=8.1.3 in /usr/local/lib/python3.11/dist-packages (from Flask>=0.8->Flask-RESTful) (8.2.1)\n",
            "Requirement already satisfied: itsdangerous>=2.2.0 in /usr/local/lib/python3.11/dist-packages (from Flask>=0.8->Flask-RESTful) (2.2.0)\n",
            "Requirement already satisfied: jinja2>=3.1.2 in /usr/local/lib/python3.11/dist-packages (from Flask>=0.8->Flask-RESTful) (3.1.6)\n",
            "Requirement already satisfied: markupsafe>=2.1.1 in /usr/local/lib/python3.11/dist-packages (from Flask>=0.8->Flask-RESTful) (3.0.2)\n",
            "Requirement already satisfied: werkzeug>=3.1.0 in /usr/local/lib/python3.11/dist-packages (from Flask>=0.8->Flask-RESTful) (3.1.3)\n",
            "Downloading Flask_RESTful-0.3.10-py2.py3-none-any.whl (26 kB)\n",
            "Downloading aniso8601-10.0.1-py2.py3-none-any.whl (52 kB)\n",
            "\u001b[2K   \u001b[90m━━━━━━━━━━━━━━━━━━━━━━━━━━━━━━━━━━━━━━━━\u001b[0m \u001b[32m52.8/52.8 kB\u001b[0m \u001b[31m3.5 MB/s\u001b[0m eta \u001b[36m0:00:00\u001b[0m\n",
            "\u001b[?25hInstalling collected packages: aniso8601, Flask-RESTful\n",
            "Successfully installed Flask-RESTful-0.3.10 aniso8601-10.0.1\n"
          ]
        }
      ]
    },
    {
      "cell_type": "markdown",
      "source": [
        "2. 🛠 Simplified Routing with Api Class\n",
        "\n",
        "● You use the Api object to manage routes cleanly."
      ],
      "metadata": {
        "id": "KBrcKqFD2EQV"
      }
    },
    {
      "cell_type": "code",
      "source": [
        "from flask_restful import Api\n",
        "api = Api(app)\n",
        "api.add_resource(Hello, '/hello')"
      ],
      "metadata": {
        "id": "BK2VjDxu2FgT"
      },
      "execution_count": 48,
      "outputs": []
    },
    {
      "cell_type": "markdown",
      "source": [
        "3. 🔍 Automatic Request\n",
        "\n",
        "● Easily handle JSON and form data using reqparse."
      ],
      "metadata": {
        "id": "A0TVljqm2eOF"
      }
    },
    {
      "cell_type": "code",
      "source": [
        "# Remove these definitions as they are leftovers and not part of the function causing the error.\n",
        "# name = db.Column(db.String(100))\n",
        "# age = db.Column(db.Integer)\n",
        "\n",
        "from flask_restful import reqparse\n",
        "parser = reqparse.RequestParser()\n",
        "parser.add_argument('name', type=str, required=True)\n",
        "# The indentation on the next line was the cause of the error.\n",
        "args = parser.parse_args()"
      ],
      "metadata": {
        "id": "85exq12e22L4"
      },
      "execution_count": null,
      "outputs": []
    },
    {
      "cell_type": "markdown",
      "source": [
        "4. 📦 Standardized Response Format Returns are automatically converted into JSON,\n",
        "with proper HTTP status codes.\n",
        "\n",
        "return {'message': 'Item created'}, 201"
      ],
      "metadata": {
        "id": "cSHgNu4q3BU8"
      }
    },
    {
      "cell_type": "markdown",
      "source": [
        "5. 🧩 Modular and Clean Code\n",
        "\n",
        "● Encourages RESTful design patterns and separates logic for each resource.\n",
        "\n",
        "6. 🔒 Easy Integration with Flask Ecosystem\n",
        "\n",
        "● Works well with Flask extensions like:\n",
        "\n",
        "● Flask-JWT-Extended (for authentication)\n",
        "\n",
        "● Flask-SQLAlchemy (for database)\n",
        "\n",
        "● Flask-CORS (for cross-origin requests)\n",
        "\n",
        "23. What is the role of Flask’s session object?\n",
        "\n",
        "● In Flask, the session object is used to store data across requests for a specific user. It\n",
        "allows you to remember information (like login status or user preferences) from one\n",
        "request to the next.\n",
        "\n",
        "🧠 Why is session important:-\n",
        "\n",
        "● HTTP is a stateless protocol, meaning each request is independent and doesn’t\n",
        "\"remember\" the previous one.\n",
        "\n",
        "● The session object gives Flask the ability to maintain state between different requests\n",
        "from the same client.\n",
        "\n",
        "🛠 How It Works:\n",
        "\n",
        "● Flask uses secure cookies to store session data on the client side.\n",
        "\n",
        "● The data is signed cryptographically using a secret key so it cannot be tampered with.\n",
        "\n",
        "Example:"
      ],
      "metadata": {
        "id": "Mtg8tEUz3aBo"
      }
    },
    {
      "cell_type": "code",
      "source": [
        "from flask import Flask, session, redirect, url_for, request\n",
        "app = Flask(__name__)\n",
        "app.secret_key = 'your_secret_key'\n",
        "@app.route('/login', methods=['POST'])\n",
        "def login():\n",
        "username = request.form['username']\n",
        "session['username'] = username\n",
        "return f\"Welcome, {username}!\"\n",
        "@app.route('/logout')\n",
        "def logout():\n",
        "session.pop('username', None)\n",
        "return \"You have been logged out.\""
      ],
      "metadata": {
        "id": "UYSSek0f4b7U"
      },
      "execution_count": null,
      "outputs": []
    },
    {
      "cell_type": "markdown",
      "source": [
        "practical\n",
        "1. How do you create a basic Flask application?"
      ],
      "metadata": {
        "id": "riMoX0ag4rUT"
      }
    },
    {
      "cell_type": "code",
      "source": [
        "pip install flask\n",
        "from flask import Flask\n",
        "# Create the Flask application\n",
        "app = Flask(__name__)\n",
        "\n",
        "# Define a basic route\n",
        "@app.route('/')\n",
        "def home():\n",
        "return \"Welcome to your first Flask app!\"\n",
        "# Run the app\n",
        "if __name__ == '__main__':\n",
        "app.run(debug=True)\n",
        "python app.py"
      ],
      "metadata": {
        "id": "gEwVDeoK4sJy"
      },
      "execution_count": null,
      "outputs": []
    },
    {
      "cell_type": "markdown",
      "source": [
        "2. How do you serve static files like images or CSS in Flask?"
      ],
      "metadata": {
        "id": "wVCnwLgJ41P_"
      }
    },
    {
      "cell_type": "code",
      "source": [
        "from flask import Flask, render_template\n",
        "app = Flask(__name__)\n",
        "@app.route('/')\n",
        "def home():\n",
        "return render_template('index.html')\n",
        "if __name__ == '__main__':\n",
        "app.run(debug=True)"
      ],
      "metadata": {
        "id": "csc2QFgF414N"
      },
      "execution_count": null,
      "outputs": []
    },
    {
      "cell_type": "markdown",
      "source": [
        "3. How do you define different routes with different HTTP methods in Flask?"
      ],
      "metadata": {
        "id": "0JqYopjU46w2"
      }
    },
    {
      "cell_type": "code",
      "source": [
        "from flask import Flask, request\n",
        "app = Flask(__name__)\n",
        "# GET method\n",
        "@app.route('/')\n",
        "def home():\n",
        "return \"Welcome to the Home Page!\"\n",
        "# GET and POST methods\n",
        "@app.route('/submit', methods=['GET', 'POST'])\n",
        "def submit():\n",
        "if request.method == 'POST':\n",
        "name = request.form.get('name')\n",
        "return f\"Hello, {name} (from POST)\"\n",
        "\n",
        "return '''\n",
        "<form method=\"POST\">\n",
        "<input type=\"text\" name=\"name\" placeholder=\"Enter your name\">\n",
        "<input type=\"submit\" value=\"Submit\">\n",
        "</form>\n",
        "'''\n",
        "# PUT method\n",
        "@app.route('/update', methods=['PUT'])\n",
        "def update():\n",
        "return \"Data updated using PUT request\"\n",
        "# DELETE method\n",
        "@app.route('/delete', methods=['DELETE'])\n",
        "def delete():\n",
        "return \"Data deleted using DELETE request\"\n",
        "if __name__ == '__main__':\n",
        "app.run(debug=True)"
      ],
      "metadata": {
        "id": "s-3aQLOI47TS"
      },
      "execution_count": null,
      "outputs": []
    },
    {
      "cell_type": "markdown",
      "source": [
        "4.How do you render HTML templates in Flask?"
      ],
      "metadata": {
        "id": "qBNq4Tq45LOf"
      }
    },
    {
      "cell_type": "code",
      "source": [
        "from flask import Flask, render_template\n",
        "app = Flask(__name__)\n",
        "@app.route('/')\n",
        "def home():\n",
        "return render_template('index.html')\n",
        "if __name__ == '__main__':\n",
        "app.run(debug=True)"
      ],
      "metadata": {
        "id": "nh2bFo7u5OW6"
      },
      "execution_count": null,
      "outputs": []
    },
    {
      "cell_type": "markdown",
      "source": [
        "5.How can you generate URLs for routes in Flask using url_for?"
      ],
      "metadata": {
        "id": "PqyYypPe5T-H"
      }
    },
    {
      "cell_type": "code",
      "source": [
        "from flask import Flask, render_template, url_for, redirect\n",
        "app = Flask(__name__)\n",
        "@app.route('/')\n",
        "\n",
        "def home():\n",
        "return render_template('home.html')\n",
        "@app.route('/about')\n",
        "def about():\n",
        "return \"This is the About Page!\"\n",
        "@app.route('/go-to-about')\n",
        "def go_to_about():\n",
        "# Redirect to 'about' route using url_for\n",
        "return redirect(url_for('about'))\n",
        "if __name__ == '__main__':\n",
        "app.run(debug=True)"
      ],
      "metadata": {
        "id": "cBqKbB2y5V2M"
      },
      "execution_count": null,
      "outputs": []
    },
    {
      "cell_type": "markdown",
      "source": [
        "6.How do you handle forms in flasks?"
      ],
      "metadata": {
        "id": "cNjoEbkl5k34"
      }
    },
    {
      "cell_type": "code",
      "source": [
        "from flask import Flask, request, render_template\n",
        "app = Flask(__name__)\n",
        "@app.route('/')\n",
        "def form():\n",
        "return render_template('form.html')\n",
        "@app.route('/submit', methods=['POST'])\n",
        "def submit():\n",
        "username = request.form.get('username')\n",
        "return render_template('result.html', username=username)\n",
        "if __name__ == '__main__':\n",
        "app.run(debug=True)"
      ],
      "metadata": {
        "id": "bXFEHpxa5lYg"
      },
      "execution_count": null,
      "outputs": []
    },
    {
      "cell_type": "markdown",
      "source": [
        "7. How can you validate form data in Flask?"
      ],
      "metadata": {
        "id": "-NRJsfYE5qDJ"
      }
    },
    {
      "cell_type": "code",
      "source": [
        "from flask import Flask, request, render_template\n",
        "app = Flask(__name__)\n",
        "@app.route('/')\n",
        "def form():\n",
        "\n",
        "return render_template('form.html')\n",
        "@app.route('/submit', methods=['POST'])\n",
        "def submit():\n",
        "name = request.form.get('name')\n",
        "email = request.form.get('email')\n",
        "# Manual validation\n",
        "if not name or not email:\n",
        "return \"Name and email are required!\"\n",
        "if '@' not in email:\n",
        "return \"Invalid email format!\"\n",
        "return f\"Welcome {name}, your email is {email}\"\n",
        "if __name__ == '__main__':\n",
        "app.run(debug=True)"
      ],
      "metadata": {
        "id": "BDfTO8Gf5qk3"
      },
      "execution_count": null,
      "outputs": []
    },
    {
      "cell_type": "markdown",
      "source": [
        "8. How do you manage sessions in flask?"
      ],
      "metadata": {
        "id": "PZHajCMf504H"
      }
    },
    {
      "cell_type": "code",
      "source": [
        "from flask import Flask, render_template, request, session, redirect,\n",
        "url_for\n",
        "app = Flask(__name__)\n",
        "app.secret_key = 'your_secret_key_here' # Required for session security\n",
        "@app.route('/')\n",
        "def home():\n",
        "return render_template('login.html')\n",
        "@app.route('/login', methods=['POST'])\n",
        "def login():\n",
        "username = request.form.get('username')\n",
        "if username:\n",
        "session['user'] = username # Store data in session\n",
        "return redirect(url_for('dashboard'))\n",
        "return \"Username required!\"\n",
        "@app.route('/dashboard')\n",
        "def dashboard():\n",
        "if 'user' in session:\n",
        "return render_template('dashboard.html', user=session['user'])\n",
        "return redirect(url_for('home'))\n",
        "\n",
        "@app.route('/logout')\n",
        "def logout():\n",
        "session.pop('user', None) # Clear session\n",
        "return redirect(url_for('home'))\n",
        "if __name__ == '__main__':\n",
        "app.run(debug=True)"
      ],
      "metadata": {
        "id": "kwUJxotR51XX"
      },
      "execution_count": null,
      "outputs": []
    },
    {
      "cell_type": "markdown",
      "source": [
        "9. How do you redirect to a different route in Flask?"
      ],
      "metadata": {
        "id": "y88X4KPH6Cea"
      }
    },
    {
      "cell_type": "code",
      "source": [
        " from flask import Flask, redirect, url_for\n",
        "app = Flask(__name__)\n",
        "@app.route('/')\n",
        "def home():\n",
        "return '<h1>Home Page</h1><a href=\"/login\">Go to Login</a>'\n",
        "@app.route('/login')\n",
        "def login():\n",
        "# Imagine login is successful, now redirect to dashboard\n",
        "return redirect(url_for('dashboard'))\n",
        "@app.route('/dashboard')\n",
        "def dashboard():\n",
        "return '<h1>Welcome to the Dashboard!</h1>'\n",
        "if __name__ == '__main__':\n",
        "app.run(debug=True)"
      ],
      "metadata": {
        "id": "IUr9zb9X6QI7"
      },
      "execution_count": null,
      "outputs": []
    },
    {
      "cell_type": "markdown",
      "source": [
        "10. How do you handle errors in Flask (e.g., 404)?"
      ],
      "metadata": {
        "id": "QuxlKt4p6WAJ"
      }
    },
    {
      "cell_type": "code",
      "source": [
        "from flask import Flask, render_template\n",
        "app = Flask(__name__)\n",
        "@app.route('/')\n",
        "def home():\n",
        "return 'Welcome to the Home Page!'\n",
        "\n",
        "@app.route('/cause-error')\n",
        "def cause_error():\n",
        "# This will raise an internal error\n",
        "return 1 / 0\n",
        "# Custom 404 Error Handler\n",
        "@app.errorhandler(404)\n",
        "def not_found(error):\n",
        "return render_template('404.html'), 404\n",
        "# Custom 500 Error Handler\n",
        "@app.errorhandler(500)\n",
        "def server_error(error):\n",
        "return render_template('500.html'), 500\n",
        "if __name__ == '__main__':\n",
        "app.run(debug=True)"
      ],
      "metadata": {
        "id": "tJi-9j346Whi"
      },
      "execution_count": null,
      "outputs": []
    },
    {
      "cell_type": "markdown",
      "source": [
        "11. How do you structure a Flask app using Blueprints?"
      ],
      "metadata": {
        "id": "QQTJF_KT6fAN"
      }
    },
    {
      "cell_type": "code",
      "source": [
        "from flask import Flask\n",
        "# Import blueprints\n",
        "from auth.routes import auth_bp\n",
        "from main.routes import main_bp\n",
        "app = Flask(__name__)\n",
        "app.secret_key = 'your_secret_key'\n",
        "# Register blueprints\n",
        "app.register_blueprint(auth_bp, url_prefix='/auth')\n",
        "app.register_blueprint(main_bp)\n",
        "if __name__ == '__main__':\n",
        "app.run(debug=True)"
      ],
      "metadata": {
        "id": "xvXEveHR6fqO"
      },
      "execution_count": null,
      "outputs": []
    },
    {
      "cell_type": "markdown",
      "source": [
        "12. How do you define a custom Jinja filter in Flask?"
      ],
      "metadata": {
        "id": "asSNR5m06nQC"
      }
    },
    {
      "cell_type": "code",
      "source": [
        "from flask import Flask, render_template\n",
        "app = Flask(__name__)\n",
        "\n",
        "# Define custom filter to reverse a string\n",
        "@app.template_filter('reverse')\n",
        "def reverse_filter(s):\n",
        "return s[::-1]\n",
        "@app.route('/')\n",
        "def home():\n",
        "return render_template('home.html', name='Sonu Kumar')\n",
        "if __name__ == '__main__':\n",
        "app.run(debug=True)\n"
      ],
      "metadata": {
        "id": "yj-3fptP6n1Z"
      },
      "execution_count": null,
      "outputs": []
    },
    {
      "cell_type": "markdown",
      "source": [
        "13. How can you redirect with query parameters in Flask?"
      ],
      "metadata": {
        "id": "4NIeXp4T6xj6"
      }
    },
    {
      "cell_type": "code",
      "source": [
        "from flask import Flask, redirect, url_for, request\n",
        "app = Flask(__name__)\n",
        "@app.route('/')\n",
        "def home():\n",
        "return '<a href=\"/go\">Go with query params</a>'\n",
        "@app.route('/go')\n",
        "def go():\n",
        "# Redirect to /destination with query parameters\n",
        "return redirect(url_for('destination', name='Sonu', age=24))\n",
        "@app.route('/destination')\n",
        "def destination():\n",
        "# Access query parameters\n",
        "name = request.args.get('name')\n",
        "age = request.args.get('age')\n",
        "return f\"Name: {name}, Age: {age}\"\n",
        "if __name__ == '__main__':\n",
        "app.run(debug=True)"
      ],
      "metadata": {
        "id": "2kGykYrW7PDb"
      },
      "execution_count": null,
      "outputs": []
    },
    {
      "cell_type": "markdown",
      "source": [
        "14. How do you return JSON responses in Flask?\n",
        "\n"
      ],
      "metadata": {
        "id": "6cSCFzvs7W1W"
      }
    },
    {
      "cell_type": "code",
      "source": [
        "from flask import Flask, jsonify\n",
        "\n",
        "app = Flask(__name__)\n",
        "@app.route('/api/data')\n",
        "def api_data():\n",
        "data = {\n",
        "'name': 'Anshul tiwari',\n",
        "'role': 'Data Analyst',\n",
        "'skills': ['Python', 'SQL', 'Flask']\n",
        "}\n",
        "return jsonify(data)\n",
        "if __name__ == '__main__':\n",
        "app.run(debug=True)"
      ],
      "metadata": {
        "id": "HffFRyc-7Y0g"
      },
      "execution_count": null,
      "outputs": []
    },
    {
      "cell_type": "markdown",
      "source": [
        "15. How do you capture URL parameters in Flask?"
      ],
      "metadata": {
        "id": "XFmDVpuN7tmZ"
      }
    },
    {
      "cell_type": "code",
      "source": [
        "from flask import Flask\n",
        "app = Flask(__name__)\n",
        "@app.route('/user/<username>')\n",
        "def show_user(username):\n",
        "return f\"User: {username}\"\n",
        "if __name__ == '__main__':\n",
        "app.run(debug=True)"
      ],
      "metadata": {
        "id": "0dPphY_r7uUT"
      },
      "execution_count": null,
      "outputs": []
    },
    {
      "cell_type": "code",
      "source": [],
      "metadata": {
        "id": "xan3XNTs71HL"
      },
      "execution_count": null,
      "outputs": []
    }
  ]
}